{
 "cells": [
  {
   "cell_type": "code",
   "execution_count": 97,
   "metadata": {},
   "outputs": [],
   "source": [
    "import requests\n",
    "from bs4 import BeautifulSoup\n",
    "import pandas as pd\n",
    "from pprint import pprint\n",
    "import re"
   ]
  },
  {
   "cell_type": "code",
   "execution_count": 91,
   "metadata": {},
   "outputs": [],
   "source": [
    "year = 2000\n",
    "df = pd.read_csv(\"rt_data/rt_{}.csv\".format(year))\n",
    "link = df[\"RTLink\"].tolist()[0]\n"
   ]
  },
  {
   "cell_type": "code",
   "execution_count": 102,
   "metadata": {},
   "outputs": [
    {
     "data": {
      "text/plain": [
       "'2000-04-17T17:00:00-07:00'"
      ]
     },
     "execution_count": 102,
     "metadata": {},
     "output_type": "execute_result"
    }
   ],
   "source": [
    "rt_list = []\n",
    "page = requests.get(link)\n",
    "bs = BeautifulSoup(page.text)\n",
    "scores = [elem.text.strip() for elem in bs.findAll(\"span\", {\"class\": \"mop-ratings-wrap__percentage\"})]\n",
    "if len(scores) == 2:\n",
    "    tomato_score = scores[0]\n",
    "    aud_score = scores[1]\n",
    "else:\n",
    "    raise Exception(\"Could not find all scores:\\n{}\".format(scores))\n",
    "synopsis = bs.findAll(\"div\", {\"id\": \"movieSynopsis\"})\n",
    "if len(synopsis) == 1:\n",
    "    synopsis = synopsis[0].text.strip()\n",
    "else:\n",
    "    raise Exception(\"Could not find all synopsis:\\n{}\".format(synopsis))\n",
    "meta_data = bs.findAll(\"li\", {\"class\": \"meta-row clearfix\"})\n",
    "if len(meta_data) == 8:\n",
    "    for data in meta_data:\n",
    "        if \"Rating: \" in data.find(\"div\", {\"class\": \"meta-label subtle\"}).text:\n",
    "            rating = data.find(\"div\", {\"class\": \"meta-value\"}).text.strip()\n",
    "        if \"Genre: \" in data.find(\"div\", {\"class\": \"meta-label subtle\"}).text:\n",
    "            genres = [\n",
    "                {\n",
    "                    \"link\":\"https://rottentomatoes.com\" + link.get('href'),\n",
    "                    \"text\":link.text\n",
    "                } \n",
    "                for link in data.findAll(\"a\")\n",
    "            ]\n",
    "        if \"Directed By: \" in data.find(\"div\", {\"class\": \"meta-label subtle\"}).text:\n",
    "            directors = [\n",
    "                {\n",
    "                    \"link\":\"https://rottentomatoes.com\" + link.get('href'),\n",
    "                    \"text\":link.text\n",
    "                } \n",
    "                for link in data.findAll(\"a\")\n",
    "            ]\n",
    "        if \"Written By: \" in data.find(\"div\", {\"class\": \"meta-label subtle\"}).text:\n",
    "            writers = [\n",
    "                {\n",
    "                    \"link\":\"https://rottentomatoes.com\" + link.get('href'),\n",
    "                    \"text\":link.text\n",
    "                } \n",
    "                for link in data.findAll(\"a\")\n",
    "            ]\n",
    "        if \"In Theaters: \" in data.find(\"div\", {\"class\": \"meta-label subtle\"}).text:\n",
    "            date_theaters = data.find(\"time\")['datetime']\n",
    "        if \"On Disc/Streaming:\" in data.find(\"div\", {\"class\": \"meta-label subtle\"}).text:\n",
    "            date_disc = data.find(\"time\")['datetime']\n",
    "        if \"Runtime: \" in data.find(\"div\", {\"class\": \"meta-label subtle\"}).text:\n",
    "            runtime = data.find(\"div\", {\"class\": \"meta-value\"}).text.strip()\n",
    "            runtime = re.findall(r\"([0-9]+)\\sminutes\", runtime)\n",
    "            if len(runtime) == 1:\n",
    "                runtime = int(runtime[0])\n",
    "            else:\n",
    "                raise Exception(\"Could not parse runtime {}\".format(data))\n",
    "        if \"Studio: \" in data.find(\"div\", {\"class\": \"meta-label subtle\"}).text:\n",
    "            studio = data.find(\"div\", {\"class\": \"meta-value\"}).text.strip()\n",
    "else:\n",
    "    raise Exception(\"Could not find all metadata:\\n{}\".format(meta_data))\n",
    "rt_list.append(\n",
    "    {\n",
    "        \"tomato_score\":int(tomato_score[:-1]),\n",
    "        \"aud_score\":int(aud_score[:-1]),\n",
    "        \"synopsis\":synopsis,\n",
    "        \"rating\":rating,\n",
    "        \"genres\":genres,\n",
    "        \"directors\":directors,\n",
    "        \"writers\":writers,\n",
    "        \"date_theaters\":date_theaters,\n",
    "        \"date_disc\":date_disc,\n",
    "        \"runtime\":runtime\n",
    "    }\n",
    ")\n"
   ]
  },
  {
   "cell_type": "code",
   "execution_count": 109,
   "metadata": {},
   "outputs": [
    {
     "data": {
      "text/plain": [
       "'2000'"
      ]
     },
     "execution_count": 109,
     "metadata": {},
     "output_type": "execute_result"
    }
   ],
   "source": [
    "csv_file = \"rt_2000.csv\"\n"
   ]
  },
  {
   "cell_type": "code",
   "execution_count": 110,
   "metadata": {},
   "outputs": [
    {
     "data": {
      "text/plain": [
       "Index(['Unnamed: 0', 'weekend', 'top10gross', 'top10percentchange',\n",
       "       'overallgross', 'overallpercentchange', 'numreleases', 'num1release',\n",
       "       'weeknum', 'RTLink', 'weekendlink', 'num1link'],\n",
       "      dtype='object')"
      ]
     },
     "execution_count": 110,
     "metadata": {},
     "output_type": "execute_result"
    }
   ],
   "source": [
    "df.columns"
   ]
  }
 ],
 "metadata": {
  "kernelspec": {
   "display_name": "Python 3",
   "language": "python",
   "name": "python3"
  },
  "language_info": {
   "codemirror_mode": {
    "name": "ipython",
    "version": 3
   },
   "file_extension": ".py",
   "mimetype": "text/x-python",
   "name": "python",
   "nbconvert_exporter": "python",
   "pygments_lexer": "ipython3",
   "version": "3.6.2+"
  }
 },
 "nbformat": 4,
 "nbformat_minor": 2
}
